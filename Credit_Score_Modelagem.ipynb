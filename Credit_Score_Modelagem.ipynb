{
  "nbformat": 4,
  "nbformat_minor": 0,
  "metadata": {
    "colab": {
      "name": "Credit_Score_Modelagem.ipynb",
      "provenance": [],
      "collapsed_sections": [],
      "include_colab_link": true
    },
    "kernelspec": {
      "display_name": "Python 3",
      "language": "python",
      "name": "python3"
    },
    "language_info": {
      "codemirror_mode": {
        "name": "ipython",
        "version": 3
      },
      "file_extension": ".py",
      "mimetype": "text/x-python",
      "name": "python",
      "nbconvert_exporter": "python",
      "pygments_lexer": "ipython3",
      "version": "3.8.5"
    }
  },
  "cells": [
    {
      "cell_type": "markdown",
      "metadata": {
        "id": "view-in-github",
        "colab_type": "text"
      },
      "source": [
        "<a href=\"https://colab.research.google.com/github/LeandroCoelhos/credit_score/blob/main/Credit_Score_Modelagem.ipynb\" target=\"_parent\"><img src=\"https://colab.research.google.com/assets/colab-badge.svg\" alt=\"Open In Colab\"/></a>"
      ]
    },
    {
      "cell_type": "code",
      "metadata": {
        "id": "gdyMcyyQw7Wr"
      },
      "source": [
        "import pandas as pd\n",
        "import numpy as np\n",
        "import matplotlib as plt"
      ],
      "execution_count": null,
      "outputs": []
    },
    {
      "cell_type": "code",
      "metadata": {
        "id": "RgOLG6W4yQUn"
      },
      "source": [
        "url1 = 'https://raw.githubusercontent.com/LeandroCoelhos/credit_score/main/data/treino.csv'\n",
        "url2 = 'https://raw.githubusercontent.com/LeandroCoelhos/credit_score/main/data/teste.csv'\n",
        "\n",
        "treino = pd.read_csv(url1)\n",
        "teste = pd.read_csv(url2)"
      ],
      "execution_count": null,
      "outputs": []
    },
    {
      "cell_type": "code",
      "metadata": {
        "id": "7fOx-7kgcKPk"
      },
      "source": [
        "def Renomeia(data):\n",
        "  data.rename(columns = {'gender': 'Sexo',\n",
        "                       'SeniorCitizen': 'Idoso',\n",
        "                       'Partner': 'Parceiro',\n",
        "                       'Dependents': 'Dependentes',\n",
        "                       'tenure': 'Empresa',\n",
        "                       'PhoneService':'Telefone',\n",
        "                       'MultipleLines': 'VariasLinhas',\n",
        "                       'InternetService': 'Provedor',\n",
        "                       'OnlineSecurity': 'SegurancaOnline',\n",
        "                       'OnlineBackup': 'BackupOnline',\n",
        "                       'DeviceProtection': 'ProtecaoDispositivo',\n",
        "                       'TechSupport': 'SuporteTecnico',\n",
        "                       'StreamingTV': 'TV',\n",
        "                       'StreamingMovies': 'Filmes',\n",
        "                       'Contract': 'Contrato',\n",
        "                       'PaperlessBilling': 'FaturaPapel',\n",
        "                       'PaymentMethod': 'Pagamento'},inplace = True)\n",
        "  return data"
      ],
      "execution_count": null,
      "outputs": []
    },
    {
      "cell_type": "code",
      "metadata": {
        "colab": {
          "base_uri": "https://localhost:8080/",
          "height": 597
        },
        "id": "Y20VV3Bwcc3x",
        "outputId": "dfba8db8-a41b-4521-ca95-2f3a86a17b6f"
      },
      "source": [
        "Renomeia(treino)\n",
        "Renomeia(teste)"
      ],
      "execution_count": null,
      "outputs": [
        {
          "output_type": "execute_result",
          "data": {
            "text/html": [
              "<div>\n",
              "<style scoped>\n",
              "    .dataframe tbody tr th:only-of-type {\n",
              "        vertical-align: middle;\n",
              "    }\n",
              "\n",
              "    .dataframe tbody tr th {\n",
              "        vertical-align: top;\n",
              "    }\n",
              "\n",
              "    .dataframe thead th {\n",
              "        text-align: right;\n",
              "    }\n",
              "</style>\n",
              "<table border=\"1\" class=\"dataframe\">\n",
              "  <thead>\n",
              "    <tr style=\"text-align: right;\">\n",
              "      <th></th>\n",
              "      <th>Sexo</th>\n",
              "      <th>Idoso</th>\n",
              "      <th>Parceiro</th>\n",
              "      <th>Dependentes</th>\n",
              "      <th>Empresa</th>\n",
              "      <th>Telefone</th>\n",
              "      <th>VariasLinhas</th>\n",
              "      <th>Provedor</th>\n",
              "      <th>SegurancaOnline</th>\n",
              "      <th>BackupOnline</th>\n",
              "      <th>ProtecaoDispositivo</th>\n",
              "      <th>SuporteTecnico</th>\n",
              "      <th>TV</th>\n",
              "      <th>Filmes</th>\n",
              "      <th>Contrato</th>\n",
              "      <th>FaturaPapel</th>\n",
              "      <th>Pagamento</th>\n",
              "    </tr>\n",
              "  </thead>\n",
              "  <tbody>\n",
              "    <tr>\n",
              "      <th>0</th>\n",
              "      <td>Female</td>\n",
              "      <td>0</td>\n",
              "      <td>Yes</td>\n",
              "      <td>Yes</td>\n",
              "      <td>23</td>\n",
              "      <td>Yes</td>\n",
              "      <td>No</td>\n",
              "      <td>No</td>\n",
              "      <td>No internet service</td>\n",
              "      <td>No internet service</td>\n",
              "      <td>No internet service</td>\n",
              "      <td>No internet service</td>\n",
              "      <td>No internet service</td>\n",
              "      <td>No internet service</td>\n",
              "      <td>One year</td>\n",
              "      <td>No</td>\n",
              "      <td>Mailed check</td>\n",
              "    </tr>\n",
              "    <tr>\n",
              "      <th>1</th>\n",
              "      <td>Female</td>\n",
              "      <td>0</td>\n",
              "      <td>No</td>\n",
              "      <td>No</td>\n",
              "      <td>27</td>\n",
              "      <td>Yes</td>\n",
              "      <td>No</td>\n",
              "      <td>DSL</td>\n",
              "      <td>Yes</td>\n",
              "      <td>Yes</td>\n",
              "      <td>No</td>\n",
              "      <td>No</td>\n",
              "      <td>No</td>\n",
              "      <td>No</td>\n",
              "      <td>Month-to-month</td>\n",
              "      <td>Yes</td>\n",
              "      <td>Mailed check</td>\n",
              "    </tr>\n",
              "    <tr>\n",
              "      <th>2</th>\n",
              "      <td>Male</td>\n",
              "      <td>0</td>\n",
              "      <td>No</td>\n",
              "      <td>No</td>\n",
              "      <td>2</td>\n",
              "      <td>Yes</td>\n",
              "      <td>No</td>\n",
              "      <td>No</td>\n",
              "      <td>No internet service</td>\n",
              "      <td>No internet service</td>\n",
              "      <td>No internet service</td>\n",
              "      <td>No internet service</td>\n",
              "      <td>No internet service</td>\n",
              "      <td>No internet service</td>\n",
              "      <td>Month-to-month</td>\n",
              "      <td>No</td>\n",
              "      <td>Mailed check</td>\n",
              "    </tr>\n",
              "    <tr>\n",
              "      <th>3</th>\n",
              "      <td>Female</td>\n",
              "      <td>0</td>\n",
              "      <td>No</td>\n",
              "      <td>No</td>\n",
              "      <td>48</td>\n",
              "      <td>Yes</td>\n",
              "      <td>No</td>\n",
              "      <td>Fiber optic</td>\n",
              "      <td>Yes</td>\n",
              "      <td>No</td>\n",
              "      <td>Yes</td>\n",
              "      <td>Yes</td>\n",
              "      <td>Yes</td>\n",
              "      <td>Yes</td>\n",
              "      <td>Two year</td>\n",
              "      <td>Yes</td>\n",
              "      <td>Credit card (automatic)</td>\n",
              "    </tr>\n",
              "    <tr>\n",
              "      <th>4</th>\n",
              "      <td>Male</td>\n",
              "      <td>0</td>\n",
              "      <td>Yes</td>\n",
              "      <td>No</td>\n",
              "      <td>71</td>\n",
              "      <td>Yes</td>\n",
              "      <td>No</td>\n",
              "      <td>Fiber optic</td>\n",
              "      <td>No</td>\n",
              "      <td>Yes</td>\n",
              "      <td>Yes</td>\n",
              "      <td>Yes</td>\n",
              "      <td>Yes</td>\n",
              "      <td>Yes</td>\n",
              "      <td>Two year</td>\n",
              "      <td>Yes</td>\n",
              "      <td>Electronic check</td>\n",
              "    </tr>\n",
              "    <tr>\n",
              "      <th>...</th>\n",
              "      <td>...</td>\n",
              "      <td>...</td>\n",
              "      <td>...</td>\n",
              "      <td>...</td>\n",
              "      <td>...</td>\n",
              "      <td>...</td>\n",
              "      <td>...</td>\n",
              "      <td>...</td>\n",
              "      <td>...</td>\n",
              "      <td>...</td>\n",
              "      <td>...</td>\n",
              "      <td>...</td>\n",
              "      <td>...</td>\n",
              "      <td>...</td>\n",
              "      <td>...</td>\n",
              "      <td>...</td>\n",
              "      <td>...</td>\n",
              "    </tr>\n",
              "    <tr>\n",
              "      <th>2495</th>\n",
              "      <td>Female</td>\n",
              "      <td>0</td>\n",
              "      <td>Yes</td>\n",
              "      <td>Yes</td>\n",
              "      <td>72</td>\n",
              "      <td>Yes</td>\n",
              "      <td>Yes</td>\n",
              "      <td>DSL</td>\n",
              "      <td>Yes</td>\n",
              "      <td>Yes</td>\n",
              "      <td>Yes</td>\n",
              "      <td>Yes</td>\n",
              "      <td>Yes</td>\n",
              "      <td>Yes</td>\n",
              "      <td>Two year</td>\n",
              "      <td>No</td>\n",
              "      <td>Credit card (automatic)</td>\n",
              "    </tr>\n",
              "    <tr>\n",
              "      <th>2496</th>\n",
              "      <td>Female</td>\n",
              "      <td>0</td>\n",
              "      <td>Yes</td>\n",
              "      <td>Yes</td>\n",
              "      <td>1</td>\n",
              "      <td>Yes</td>\n",
              "      <td>No</td>\n",
              "      <td>DSL</td>\n",
              "      <td>No</td>\n",
              "      <td>No</td>\n",
              "      <td>Yes</td>\n",
              "      <td>No</td>\n",
              "      <td>No</td>\n",
              "      <td>No</td>\n",
              "      <td>Month-to-month</td>\n",
              "      <td>No</td>\n",
              "      <td>Mailed check</td>\n",
              "    </tr>\n",
              "    <tr>\n",
              "      <th>2497</th>\n",
              "      <td>Male</td>\n",
              "      <td>1</td>\n",
              "      <td>No</td>\n",
              "      <td>No</td>\n",
              "      <td>2</td>\n",
              "      <td>Yes</td>\n",
              "      <td>No</td>\n",
              "      <td>Fiber optic</td>\n",
              "      <td>No</td>\n",
              "      <td>Yes</td>\n",
              "      <td>No</td>\n",
              "      <td>No</td>\n",
              "      <td>No</td>\n",
              "      <td>No</td>\n",
              "      <td>Month-to-month</td>\n",
              "      <td>Yes</td>\n",
              "      <td>Electronic check</td>\n",
              "    </tr>\n",
              "    <tr>\n",
              "      <th>2498</th>\n",
              "      <td>Male</td>\n",
              "      <td>0</td>\n",
              "      <td>No</td>\n",
              "      <td>No</td>\n",
              "      <td>71</td>\n",
              "      <td>Yes</td>\n",
              "      <td>No</td>\n",
              "      <td>No</td>\n",
              "      <td>No internet service</td>\n",
              "      <td>No internet service</td>\n",
              "      <td>No internet service</td>\n",
              "      <td>No internet service</td>\n",
              "      <td>No internet service</td>\n",
              "      <td>No internet service</td>\n",
              "      <td>Two year</td>\n",
              "      <td>Yes</td>\n",
              "      <td>Credit card (automatic)</td>\n",
              "    </tr>\n",
              "    <tr>\n",
              "      <th>2499</th>\n",
              "      <td>Male</td>\n",
              "      <td>1</td>\n",
              "      <td>Yes</td>\n",
              "      <td>No</td>\n",
              "      <td>71</td>\n",
              "      <td>Yes</td>\n",
              "      <td>Yes</td>\n",
              "      <td>No</td>\n",
              "      <td>No internet service</td>\n",
              "      <td>No internet service</td>\n",
              "      <td>No internet service</td>\n",
              "      <td>No internet service</td>\n",
              "      <td>No internet service</td>\n",
              "      <td>No internet service</td>\n",
              "      <td>Two year</td>\n",
              "      <td>No</td>\n",
              "      <td>Bank transfer (automatic)</td>\n",
              "    </tr>\n",
              "  </tbody>\n",
              "</table>\n",
              "<p>2500 rows × 17 columns</p>\n",
              "</div>"
            ],
            "text/plain": [
              "        Sexo  Idoso  ... FaturaPapel                  Pagamento\n",
              "0     Female      0  ...          No               Mailed check\n",
              "1     Female      0  ...         Yes               Mailed check\n",
              "2       Male      0  ...          No               Mailed check\n",
              "3     Female      0  ...         Yes    Credit card (automatic)\n",
              "4       Male      0  ...         Yes           Electronic check\n",
              "...      ...    ...  ...         ...                        ...\n",
              "2495  Female      0  ...          No    Credit card (automatic)\n",
              "2496  Female      0  ...          No               Mailed check\n",
              "2497    Male      1  ...         Yes           Electronic check\n",
              "2498    Male      0  ...         Yes    Credit card (automatic)\n",
              "2499    Male      1  ...          No  Bank transfer (automatic)\n",
              "\n",
              "[2500 rows x 17 columns]"
            ]
          },
          "metadata": {
            "tags": []
          },
          "execution_count": 86
        }
      ]
    },
    {
      "cell_type": "code",
      "metadata": {
        "id": "EPgdvo6QcqVo"
      },
      "source": [
        "def Mapeia(data):\n",
        "  data['Sexo'] = data['Sexo'].map({'Male': 1, 'Female':0})\n",
        "  data['Parceiro'] = data['Parceiro'].map({'Yes': 1, 'No':0})\n",
        "  data['Dependentes'] = data['Dependentes'].map({'Yes': 1, 'No':0})\n",
        "  data['Telefone'] = data['Telefone'].map({'Yes': 1, 'No':0})\n",
        "  data['VariasLinhas'] = data['VariasLinhas'].map({'Yes': 1, 'No':0, 'No phone service':0})\n",
        "  data['SegurancaOnline'] = data['SegurancaOnline'].map({'Yes': 1, 'No':0, 'No internet service':0})\n",
        "  data['BackupOnline'] = data['BackupOnline'].map({'Yes': 1, 'No':0, 'No internet service':0})\n",
        "  data['ProtecaoDispositivo'] = data['ProtecaoDispositivo'].map({'Yes': 1, 'No':0, 'No internet service':0})\n",
        "  data['SuporteTecnico'] = data['SuporteTecnico'].map({'Yes': 1, 'No':0, 'No internet service':0})\n",
        "  data['TV'] = data['TV'].map({'Yes': 1, 'No':0, 'No internet service':0})\n",
        "  data['Filmes'] = data['Filmes'].map({'Yes': 1, 'No':0, 'No internet service':0})\n",
        "  data['FaturaPapel'] = data['FaturaPapel'].map({'Yes': 1, 'No':0})\n",
        "  data['Pagamento'] = data['Pagamento'].map({'Electronic check': 'Electronic', 'Mailed check': 'Mailed', 'Bank transfer (automatic)': 'automatic' , 'Credit card (automatic)': 'automatic'})\n",
        "  data['FatorPremium'] = data['VariasLinhas'] + data['SegurancaOnline'] + data['BackupOnline'] + data['ProtecaoDispositivo'] + data['SuporteTecnico'] + data['TV'] + data['Filmes']\n",
        "  return data"
      ],
      "execution_count": null,
      "outputs": []
    },
    {
      "cell_type": "code",
      "metadata": {
        "id": "XpK0qNlZdH4a"
      },
      "source": [
        "treino['Cliente'] = treino['Cliente'].map({'Premium': 1, 'Normal':0})\n",
        "\n",
        "dt_treino = Mapeia(treino)\n",
        "dt_teste = Mapeia(teste)"
      ],
      "execution_count": null,
      "outputs": []
    },
    {
      "cell_type": "code",
      "metadata": {
        "id": "kIah6caoeH51"
      },
      "source": [
        "def Dummyfica(data):\n",
        "  data = pd.get_dummies(data, columns = ['Pagamento', 'Provedor', 'Contrato'])\n",
        "  return data"
      ],
      "execution_count": null,
      "outputs": []
    },
    {
      "cell_type": "code",
      "metadata": {
        "id": "E9vOptxkeSEk"
      },
      "source": [
        "dt_treino2 = Dummyfica(dt_treino)\n",
        "dt_teste2 = Dummyfica(dt_teste)"
      ],
      "execution_count": null,
      "outputs": []
    },
    {
      "cell_type": "code",
      "metadata": {
        "id": "1QjcbsfRd62q"
      },
      "source": [
        "def DropColuna(data):\n",
        "  data = data.drop(['Provedor_No', 'FaturaPapel', 'Sexo'#,  'Parceiro', #'VariasLinhas', 'SegurancaOnline', 'BackupOnline', 'ProtecaoDispositivo', 'SuporteTecnico', 'TV', 'Filmes'\n",
        "                    #, 'Pagamento_Electronic'#, 'Telefone' , 'FaturaPapel', 'Contrato_One year',  'Provedor_DSL'\n",
        "                  ], axis = 1)\n",
        "  return data"
      ],
      "execution_count": null,
      "outputs": []
    },
    {
      "cell_type": "code",
      "metadata": {
        "id": "D3vLsFyj4tVP"
      },
      "source": [
        "dt_treino3 = DropColuna(dt_treino2)\n",
        "dt_teste3 = DropColuna(dt_teste2)"
      ],
      "execution_count": null,
      "outputs": []
    },
    {
      "cell_type": "code",
      "metadata": {
        "colab": {
          "base_uri": "https://localhost:8080/"
        },
        "id": "l_WAKHkk65mZ",
        "outputId": "34d83fc1-96d9-4eae-a587-bd7334e21715"
      },
      "source": [
        "dt_treino3[(dt_treino3[\"FatorPremium\"] == 0) & (dt_treino3[\"Cliente\"] == 0)]['Cliente'].value_counts()"
      ],
      "execution_count": null,
      "outputs": [
        {
          "output_type": "execute_result",
          "data": {
            "text/plain": [
              "0    588\n",
              "Name: Cliente, dtype: int64"
            ]
          },
          "metadata": {
            "tags": []
          },
          "execution_count": 93
        }
      ]
    },
    {
      "cell_type": "code",
      "metadata": {
        "id": "oxGNc4SUY_m6"
      },
      "source": [
        "from sklearn.preprocessing import StandardScaler\n",
        "sc = StandardScaler()\n",
        "dt_treino4 = dt_treino3.copy()\n",
        "dt_teste4 = dt_teste3.copy()\n",
        "dt_treino4['Empresa'] = sc.fit_transform(dt_treino3[['Empresa']])\n",
        "dt_teste4['Empresa'] = sc.transform(dt_teste3[['Empresa']])\n",
        "\n",
        "dt_treino4['FatorPremium'] = sc.fit_transform(dt_treino3[['FatorPremium']])\n",
        "dt_teste4['FatorPremium'] = sc.transform(dt_teste3[['FatorPremium']])"
      ],
      "execution_count": null,
      "outputs": []
    },
    {
      "cell_type": "code",
      "metadata": {
        "colab": {
          "base_uri": "https://localhost:8080/"
        },
        "id": "bBwB9ecmH48H",
        "outputId": "3833e5de-3567-4ff3-832a-54629d185c53"
      },
      "source": [
        "#Separando em treino e Teste\n",
        "xtreino = dt_treino4.drop(['Cliente'], axis=1)\n",
        "ytreino = dt_treino4['Cliente'].to_list()\n",
        "print(xtreino.shape)"
      ],
      "execution_count": null,
      "outputs": [
        {
          "output_type": "stream",
          "text": [
            "(2500, 21)\n"
          ],
          "name": "stdout"
        }
      ]
    },
    {
      "cell_type": "markdown",
      "metadata": {
        "id": "9C1HsStQ1gYn"
      },
      "source": [
        "#Correlação"
      ]
    },
    {
      "cell_type": "code",
      "metadata": {
        "id": "7HeVZVsT2ZW5"
      },
      "source": [
        "import seaborn as sns # For creating plots\n",
        "import matplotlib.ticker as mtick # For specifying the axes tick format \n",
        "import matplotlib.pyplot as plt"
      ],
      "execution_count": null,
      "outputs": []
    },
    {
      "cell_type": "code",
      "metadata": {
        "id": "EPcrDXHFdaHs"
      },
      "source": [
        "from sklearn.model_selection import cross_validate, RepeatedStratifiedKFold \n",
        "\n",
        "from sklearn.ensemble import RandomTreesEmbedding, ExtraTreesClassifier, AdaBoostClassifier, GradientBoostingClassifier, VotingClassifier\n",
        "from sklearn.ensemble import RandomForestClassifier\n",
        "from sklearn.linear_model import LogisticRegression, Perceptron, PassiveAggressiveClassifier\n",
        "from sklearn.discriminant_analysis import LinearDiscriminantAnalysis, QuadraticDiscriminantAnalysis\n",
        "from sklearn.neighbors import KNeighborsClassifier\n",
        "from sklearn.ensemble import BaggingClassifier\n",
        "from sklearn.neural_network import MLPClassifier \n",
        "from sklearn.tree import DecisionTreeClassifier\n",
        "from sklearn.svm import SVC\n",
        "from sklearn.naive_bayes import GaussianNB\n",
        "from sklearn.dummy import DummyClassifier\n",
        "\n",
        "from sklearn import metrics\n",
        "from sklearn.model_selection import train_test_split\n",
        "from sklearn.metrics import confusion_matrix"
      ],
      "execution_count": null,
      "outputs": []
    },
    {
      "cell_type": "code",
      "metadata": {
        "colab": {
          "base_uri": "https://localhost:8080/",
          "height": 620
        },
        "id": "pc13vQd3MeYS",
        "outputId": "d491af3b-9f06-415b-d8e7-dede9f8fb31b"
      },
      "source": [
        "plt.figure(figsize=(15,8))\n",
        "dt_treino4.corr()['Cliente'].sort_values(ascending = False).plot(kind='bar')"
      ],
      "execution_count": null,
      "outputs": [
        {
          "output_type": "execute_result",
          "data": {
            "text/plain": [
              "<matplotlib.axes._subplots.AxesSubplot at 0x7f3f116b9850>"
            ]
          },
          "metadata": {
            "tags": []
          },
          "execution_count": 98
        },
        {
          "output_type": "display_data",
          "data": {
            "image/png": "[encoded data removed]",
            "text/plain": [
              "<Figure size 1080x576 with 1 Axes>"
            ]
          },
          "metadata": {
            "tags": [],
            "needs_background": "light"
          }
        }
      ]
    },
    {
      "cell_type": "markdown",
      "metadata": {
        "id": "x6eiQ7OI0YRP"
      },
      "source": [
        "#Combinação"
      ]
    },
    {
      "cell_type": "code",
      "metadata": {
        "id": "ELO3BnuP0tcZ"
      },
      "source": [
        "mol_grad = GradientBoostingClassifier(learning_rate = 0.16, max_depth = 3, n_estimators = 70)\n",
        "mol_ada = AdaBoostClassifier()\n",
        "mol_mlp = MLPClassifier(hidden_layer_sizes=(75), max_iter = 1600, solver='adam', alpha = 0.001, activation = 'relu', learning_rate = 'constant')\n",
        "\n",
        "mol_rand = RandomForestClassifier()\n",
        "mol_bag = BaggingClassifier()"
      ],
      "execution_count": null,
      "outputs": []
    },
    {
      "cell_type": "code",
      "metadata": {
        "id": "tdddYDPvE5hM"
      },
      "source": [
        "X_train, X_test, y_train, y_test = train_test_split(xtreino, ytreino, test_size=0.25, shuffle =True)\n",
        "mol_grad.fit(X_train, y_train)\n",
        "mol_ada.fit(X_train, y_train)\n",
        "mol_mlp.fit(X_train, y_train)\n",
        "mol_rand.fit(X_train, y_train)\n",
        "mol_bag.fit(X_train, y_train)\n",
        "\n",
        "pre_gra = pd.DataFrame(mol_grad.predict_proba(X_train))\n",
        "pre_ada = pd.DataFrame(mol_ada.predict_proba(X_train))\n",
        "pre_mlp = pd.DataFrame(mol_mlp.predict_proba(X_train))\n",
        "pre_ran = pd.DataFrame(mol_rand.predict_proba(X_train))\n",
        "pre_bag = pd.DataFrame(mol_bag.predict_proba(X_train))\n",
        "\n",
        "comb_t = pd.concat([pre_gra, pre_ada, pre_mlp, pre_ran, pre_bag],axis=1)"
      ],
      "execution_count": null,
      "outputs": []
    },
    {
      "cell_type": "code",
      "metadata": {
        "colab": {
          "base_uri": "https://localhost:8080/"
        },
        "id": "6nG0msoeG17m",
        "outputId": "6d423705-c329-41c6-eeef-1bdc6edcbf5b"
      },
      "source": [
        "red = GradientBoostingClassifier()\n",
        "red.fit(comb_t, y_train)\n",
        "pred_com_t = red.predict(comb_t)\n",
        "confusion_matrix(y_train, pred_com_t)"
      ],
      "execution_count": null,
      "outputs": [
        {
          "output_type": "execute_result",
          "data": {
            "text/plain": [
              "array([[978,   0],\n",
              "       [  2, 895]])"
            ]
          },
          "metadata": {
            "tags": []
          },
          "execution_count": 101
        }
      ]
    },
    {
      "cell_type": "code",
      "metadata": {
        "colab": {
          "base_uri": "https://localhost:8080/"
        },
        "id": "1Pp2NglkTHGp",
        "outputId": "59b5dc0f-2139-439b-e753-d048efe4c22b"
      },
      "source": [
        "pred_gra = pd.DataFrame(mol_grad.predict_proba(X_test))\n",
        "pred_ada = pd.DataFrame(mol_ada.predict_proba(X_test))\n",
        "pred_mlp = pd.DataFrame(mol_mlp.predict_proba(X_test))\n",
        "pred_rand = pd.DataFrame(mol_rand.predict_proba(X_test))\n",
        "pred_bag = pd.DataFrame(mol_bag.predict_proba(X_test))\n",
        "\n",
        "print(\"Gra: \", metrics.f1_score( y_train, mol_grad.predict(X_train) ))\n",
        "print(\"Ada: \", metrics.f1_score( y_train, mol_ada.predict(X_train) ))\n",
        "print(\"MLP: \", metrics.f1_score( y_train, mol_mlp.predict(X_train) ))\n",
        "print(\"Rand: \", metrics.f1_score( y_train, mol_rand.predict(X_train) ))\n",
        "print(\"Bag: \", metrics.f1_score( y_train, mol_bag.predict(X_train) ))\n",
        "\n",
        "print(\"\\nTeste\\nGra: \", metrics.f1_score( y_test, mol_grad.predict(X_test) ))\n",
        "print(\"Ada: \", metrics.f1_score( y_test, mol_ada.predict(X_test) ))\n",
        "print(\"MLP: \", metrics.f1_score( y_test, mol_mlp.predict(X_test) ))\n",
        "print(\"Rand: \", metrics.f1_score( y_test, mol_rand.predict(X_test) ))\n",
        "print(\"Bag: \", metrics.f1_score( y_test, mol_bag.predict(X_test) ))\n",
        "\n",
        "comb = pd.concat([pred_gra, pred_ada,pred_mlp,pred_rand,pred_bag],axis=1)\n",
        "\n",
        "pred_red = red.predict(comb)\n",
        "print('\\nTeste: ', metrics.f1_score(y_test, pred_red))"
      ],
      "execution_count": null,
      "outputs": [
        {
          "output_type": "stream",
          "text": [
            "Gra:  0.9961046188091264\n",
            "Ada:  0.9855394883203561\n",
            "MLP:  0.9972113775794758\n",
            "Rand:  0.9988839285714286\n",
            "Bag:  0.9966517857142858\n",
            "\n",
            "Teste\n",
            "Gra:  0.9892857142857143\n",
            "Ada:  0.9892857142857143\n",
            "MLP:  0.9820143884892086\n",
            "Rand:  0.9735449735449736\n",
            "Bag:  0.9785714285714285\n",
            "\n",
            "Teste:  0.9719298245614035\n"
          ],
          "name": "stdout"
        }
      ]
    },
    {
      "cell_type": "code",
      "metadata": {
        "colab": {
          "base_uri": "https://localhost:8080/"
        },
        "id": "MOu1ZQP5VQKr",
        "outputId": "0c53f1ad-dd18-4a38-b877-eb607eb5d720"
      },
      "source": [
        "confusion_matrix(y_test, pred_red)"
      ],
      "execution_count": null,
      "outputs": [
        {
          "output_type": "execute_result",
          "data": {
            "text/plain": [
              "array([[332,  13],\n",
              "       [  3, 277]])"
            ]
          },
          "metadata": {
            "tags": []
          },
          "execution_count": 103
        }
      ]
    },
    {
      "cell_type": "markdown",
      "metadata": {
        "id": "WdTaIoH-lF2u"
      },
      "source": [
        "#Sub"
      ]
    },
    {
      "cell_type": "code",
      "metadata": {
        "id": "voZNyjgcRJq3"
      },
      "source": [
        "#dt_teste4['FatorPremium'].value_counts()"
      ],
      "execution_count": null,
      "outputs": []
    },
    {
      "cell_type": "code",
      "metadata": {
        "id": "3UXLD9b3K8do",
        "colab": {
          "base_uri": "https://localhost:8080/"
        },
        "outputId": "db9a8ee3-f19b-4eee-a7ba-0705c85feb96"
      },
      "source": [
        "grad = GradientBoostingClassifier(learning_rate = 0.16, max_depth = 3, n_estimators = 70)\n",
        "ada = AdaBoostClassifier()\n",
        "mlp = MLPClassifier(hidden_layer_sizes=(75), max_iter = 1600, solver='adam', alpha = 0.001, activation = 'relu', learning_rate = 'constant')\n",
        "rand = RandomForestClassifier()\n",
        "bag = BaggingClassifier()\n",
        "\n",
        "grad.fit(xtreino, ytreino)\n",
        "ada.fit(xtreino, ytreino)\n",
        "mlp.fit(xtreino, ytreino)\n",
        "rand.fit(xtreino, ytreino)\n",
        "bag.fit(xtreino, ytreino)\n",
        "#Treinar Validador\n",
        "p_gra = pd.DataFrame(grad.predict_proba(xtreino))\n",
        "p_ada = pd.DataFrame(ada.predict_proba(xtreino))\n",
        "p_mlp = pd.DataFrame(mlp.predict_proba(xtreino))\n",
        "p_rand = pd.DataFrame(rand.predict_proba(xtreino))\n",
        "p_bag = pd.DataFrame(bag.predict_proba(xtreino))\n",
        "comb_tsub = pd.concat([p_gra, p_ada, p_mlp,p_rand,p_bag],axis=1)\n",
        "\n",
        "print(\"Gra: \", metrics.f1_score( ytreino, grad.predict(xtreino) ))\n",
        "print(\"Ada: \", metrics.f1_score( ytreino, ada.predict(xtreino) ))\n",
        "print(\"MLP: \", metrics.f1_score( ytreino, mlp.predict(xtreino) ))\n",
        "print(\"Rand: \", metrics.f1_score( ytreino, rand.predict(xtreino) ))\n",
        "print(\"Bag: \", metrics.f1_score( ytreino, bag.predict(xtreino) ))\n",
        "#print(confusion_matrix(ytreino, grad.predict(xtreino)))\n",
        "\n",
        "classificador = GradientBoostingClassifier()\n",
        "classificador.fit(comb_tsub, ytreino)\n",
        "print('Treino: ', metrics.f1_score(ytreino, classificador.predict(comb_tsub) ) )\n",
        "\n",
        "sub_gra = pd.DataFrame(grad.predict_proba(dt_teste4))\n",
        "sub_ada = pd.DataFrame(ada.predict_proba(dt_teste4))\n",
        "sub_mlp = pd.DataFrame(mlp.predict_proba(dt_teste4))\n",
        "sub_rand = pd.DataFrame(rand.predict_proba(dt_teste4))\n",
        "sub_bag = pd.DataFrame(bag.predict_proba(dt_teste4))\n",
        "comb2 = pd.concat([sub_gra, sub_ada, sub_mlp,sub_rand,sub_bag],axis=1)\n",
        "\n",
        "pred_red_sub = classificador.predict(comb2)\n",
        "#Matriz Confusão treino classificador\n",
        "pred_sub_tr = classificador.predict(comb_tsub)\n",
        "print(confusion_matrix(ytreino, pred_sub_tr))\n",
        "#0.9982993197278911\n",
        "#0.9987250318742031\n",
        "#0.9987239472564866\n",
        "subm = pd.DataFrame()\n",
        "subm['Cliente'] = pred_red_sub\n",
        "res = (subm == sub1)\n",
        "comp = res[res['Cliente'] == False].count()\n",
        "res2 = (subm == sub2)\n",
        "comp2 = res2[res2['Cliente'] == False].count()\n",
        "res3 = (subm == sub3)\n",
        "comp3 = res3[res3['Cliente'] == False].count()\n",
        "res3v = (subm == sub3v)\n",
        "comp3v = res3v[res3v['Cliente'] == False].count()\n",
        "res4 = (subm == sub4)\n",
        "comp4 = res4[res4['Cliente'] == False].count()\n",
        "res5 = (subm == sub5)\n",
        "comp5 = res5[res5['Cliente'] == False].count()\n",
        "print(comp)\n",
        "print(comp2)\n",
        "print(comp3v)\n",
        "print(comp4)\n",
        "print(comp5)\n"
      ],
      "execution_count": null,
      "outputs": [
        {
          "output_type": "stream",
          "text": [
            "Gra:  0.9944845142129826\n",
            "Ada:  0.9864291772688719\n",
            "MLP:  0.997875053123672\n",
            "Rand:  0.9991496598639457\n",
            "Bag:  0.9991496598639457\n",
            "Treino:  0.9991496598639457\n",
            "[[1323    0]\n",
            " [   2 1175]]\n",
            "Cliente    30\n",
            "dtype: int64\n",
            "Cliente    29\n",
            "dtype: int64\n",
            "Cliente    55\n",
            "dtype: int64\n",
            "Cliente    42\n",
            "dtype: int64\n",
            "Cliente    49\n",
            "dtype: int64\n"
          ],
          "name": "stdout"
        }
      ]
    },
    {
      "cell_type": "code",
      "metadata": {
        "id": "Z8yYOe1hFVU3"
      },
      "source": [
        "[[1322    1]\n",
        " [   2 1175]]\n",
        "Cliente    54\n",
        "dtype: int64\n",
        "Cliente    53\n",
        "dtype: int64\n",
        "Cliente    75\n",
        "dtype: int64\n",
        "Cliente    66\n",
        "dtype: int64\n",
        "Cliente    61\n",
        "dtype: int64"
      ],
      "execution_count": null,
      "outputs": []
    },
    {
      "cell_type": "code",
      "metadata": {
        "id": "jC-YVsOuP7vo",
        "colab": {
          "base_uri": "https://localhost:8080/"
        },
        "outputId": "bfaedc55-e032-4d9d-c95e-3782b432a632"
      },
      "source": [
        "((subm == sub1) & (subm == sub2) & (subm == sub3) & (subm == sub3v)) ['Cliente'].value_counts()"
      ],
      "execution_count": null,
      "outputs": [
        {
          "output_type": "execute_result",
          "data": {
            "text/plain": [
              "True     2393\n",
              "False     107\n",
              "Name: Cliente, dtype: int64"
            ]
          },
          "metadata": {
            "tags": []
          },
          "execution_count": 460
        }
      ]
    },
    {
      "cell_type": "code",
      "metadata": {
        "id": "DDZ_ij6gRADN"
      },
      "source": [
        "pd.concat([sub1, sub2, sub3, sub3v], axis=1)"
      ],
      "execution_count": null,
      "outputs": []
    },
    {
      "cell_type": "code",
      "metadata": {
        "id": "vtVsQw6Il_4R"
      },
      "source": [
        "#Comparar com sub\n",
        "sub1 = pd.read_csv('/content/submissao1.csv')\n",
        "sub2 = pd.read_csv('/content/submissão2.csv')\n",
        "sub3 = pd.read_csv('/content/submissão3.csv')\n",
        "sub3v = pd.read_csv('/content/submissão3_v2.csv')\n",
        "sub4 = pd.read_csv('/content/submissão4.csv')\n",
        "sub5 = pd.read_csv('/content/submissão5.csv')"
      ],
      "execution_count": null,
      "outputs": []
    },
    {
      "cell_type": "code",
      "metadata": {
        "id": "RQMg2pfjm0At"
      },
      "source": [
        "#salvando modelo\n",
        "import pickle\n",
        "ver = ''\n",
        "pickle.dump(red, open('sub16_red' + ver, 'wb'))\n",
        "pickle.dump(grad, open('sub16_grad'+ ver, 'wb'))\n",
        "pickle.dump(ada, open('sub16_ada'+ ver, 'wb'))\n",
        "pickle.dump(mlp, open('sub16_mlp'+ ver, 'wb'))\n",
        "pickle.dump(classificador, open('sub16_Classificador'+ ver, 'wb'))"
      ],
      "execution_count": null,
      "outputs": []
    },
    {
      "cell_type": "code",
      "metadata": {
        "id": "fp5c6eBCl5Lb"
      },
      "source": [
        "subm.to_csv('submissão16.csv', index = False)"
      ],
      "execution_count": null,
      "outputs": []
    },
    {
      "cell_type": "code",
      "metadata": {
        "id": "UsyGHp1ABdZm",
        "colab": {
          "base_uri": "https://localhost:8080/",
          "height": 424
        },
        "outputId": "8fc37a5e-8fc6-4812-e26f-ea2d29ed3945"
      },
      "source": [
        "subm"
      ],
      "execution_count": null,
      "outputs": [
        {
          "output_type": "execute_result",
          "data": {
            "text/html": [
              "<div>\n",
              "<style scoped>\n",
              "    .dataframe tbody tr th:only-of-type {\n",
              "        vertical-align: middle;\n",
              "    }\n",
              "\n",
              "    .dataframe tbody tr th {\n",
              "        vertical-align: top;\n",
              "    }\n",
              "\n",
              "    .dataframe thead th {\n",
              "        text-align: right;\n",
              "    }\n",
              "</style>\n",
              "<table border=\"1\" class=\"dataframe\">\n",
              "  <thead>\n",
              "    <tr style=\"text-align: right;\">\n",
              "      <th></th>\n",
              "      <th>Cliente</th>\n",
              "    </tr>\n",
              "  </thead>\n",
              "  <tbody>\n",
              "    <tr>\n",
              "      <th>0</th>\n",
              "      <td>0</td>\n",
              "    </tr>\n",
              "    <tr>\n",
              "      <th>1</th>\n",
              "      <td>0</td>\n",
              "    </tr>\n",
              "    <tr>\n",
              "      <th>2</th>\n",
              "      <td>0</td>\n",
              "    </tr>\n",
              "    <tr>\n",
              "      <th>3</th>\n",
              "      <td>1</td>\n",
              "    </tr>\n",
              "    <tr>\n",
              "      <th>4</th>\n",
              "      <td>1</td>\n",
              "    </tr>\n",
              "    <tr>\n",
              "      <th>...</th>\n",
              "      <td>...</td>\n",
              "    </tr>\n",
              "    <tr>\n",
              "      <th>2495</th>\n",
              "      <td>1</td>\n",
              "    </tr>\n",
              "    <tr>\n",
              "      <th>2496</th>\n",
              "      <td>0</td>\n",
              "    </tr>\n",
              "    <tr>\n",
              "      <th>2497</th>\n",
              "      <td>0</td>\n",
              "    </tr>\n",
              "    <tr>\n",
              "      <th>2498</th>\n",
              "      <td>0</td>\n",
              "    </tr>\n",
              "    <tr>\n",
              "      <th>2499</th>\n",
              "      <td>1</td>\n",
              "    </tr>\n",
              "  </tbody>\n",
              "</table>\n",
              "<p>2500 rows × 1 columns</p>\n",
              "</div>"
            ],
            "text/plain": [
              "      Cliente\n",
              "0           0\n",
              "1           0\n",
              "2           0\n",
              "3           1\n",
              "4           1\n",
              "...       ...\n",
              "2495        1\n",
              "2496        0\n",
              "2497        0\n",
              "2498        0\n",
              "2499        1\n",
              "\n",
              "[2500 rows x 1 columns]"
            ]
          },
          "metadata": {
            "tags": []
          },
          "execution_count": 59
        }
      ]
    }
  ]
}